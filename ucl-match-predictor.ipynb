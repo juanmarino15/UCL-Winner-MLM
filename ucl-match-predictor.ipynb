{
 "cells": [
  {
   "cell_type": "code",
   "execution_count": 2,
   "metadata": {},
   "outputs": [],
   "source": [
    "## imports\n",
    "import pandas as pd\n",
    "import time"
   ]
  },
  {
   "cell_type": "code",
   "execution_count": 6,
   "metadata": {},
   "outputs": [],
   "source": [
    "# Define the seasons\n",
    "seasons = [f\"{year}-{year+1}\" for year in range(1996, 2024)]\n",
    "\n",
    "# Base URL format for the Champions League stats\n",
    "real_madrid_base_url = 'https://fbref.com/en/squads/53a2f082/{}/c8/Real-Madrid-Stats-Champions-League'\n",
    "\n",
    "# Initialize an empty DataFrame to hold all the data\n",
    "realMadrid_df = pd.DataFrame()\n",
    "dortmund_df = pd.DataFrame()\n"
   ]
  },
  {
   "cell_type": "code",
   "execution_count": 8,
   "metadata": {},
   "outputs": [
    {
     "name": "stdout",
     "output_type": "stream",
     "text": [
      "Successfully loaded data for season 1996-1997\n",
      "Successfully loaded data for season 1997-1998\n",
      "Successfully loaded data for season 1998-1999\n",
      "Successfully loaded data for season 1999-2000\n",
      "Successfully loaded data for season 2000-2001\n",
      "Successfully loaded data for season 2001-2002\n",
      "Successfully loaded data for season 2002-2003\n",
      "Successfully loaded data for season 2003-2004\n",
      "Successfully loaded data for season 2004-2005\n",
      "Successfully loaded data for season 2005-2006\n",
      "Successfully loaded data for season 2006-2007\n",
      "Successfully loaded data for season 2007-2008\n",
      "Successfully loaded data for season 2008-2009\n",
      "Successfully loaded data for season 2009-2010\n",
      "Successfully loaded data for season 2010-2011\n",
      "Successfully loaded data for season 2011-2012\n",
      "Successfully loaded data for season 2012-2013\n",
      "Successfully loaded data for season 2013-2014\n",
      "Successfully loaded data for season 2014-2015\n",
      "Successfully loaded data for season 2015-2016\n",
      "Successfully loaded data for season 2016-2017\n",
      "Successfully loaded data for season 2017-2018\n",
      "Successfully loaded data for season 2018-2019\n",
      "Successfully loaded data for season 2019-2020\n",
      "Successfully loaded data for season 2020-2021\n",
      "Successfully loaded data for season 2021-2022\n",
      "Successfully loaded data for season 2022-2023\n",
      "Successfully loaded data for season 2023-2024\n"
     ]
    }
   ],
   "source": [
    "# Loop through each season and load the data\n",
    "for season in seasons:\n",
    "    url = real_madrid_base_url.format(season)\n",
    "    try:\n",
    "        # Read the data from the URL\n",
    "        season_df = pd.read_html(url, attrs={\"id\": \"matchlogs_for\"})[0]\n",
    "        \n",
    "        # Add a column for the season\n",
    "        season_df['Season'] = season\n",
    "        \n",
    "        # Concatenate the season's data to the main DataFrame\n",
    "        realMadrid_df = pd.concat([realMadrid_df, season_df], ignore_index=True)\n",
    "        \n",
    "        print(f\"Successfully loaded data for season {season}\")\n",
    "    except Exception as e:\n",
    "        print(f\"Failed to load data for season {season}: {e}\")\n",
    "    \n",
    "    # Sleep for 5 seconds to avoid triggering a \"too many requests\" error\n",
    "    time.sleep(5)"
   ]
  },
  {
   "cell_type": "code",
   "execution_count": 22,
   "metadata": {},
   "outputs": [
    {
     "name": "stdout",
     "output_type": "stream",
     "text": [
      "          Date Time Comp        Round  Day Venue Result   GF   GA  \\\n",
      "42  1997-09-17  NaN  NaN  Group stage  Wed  Home      W  4.0  1.0   \n",
      "43  1997-10-01  NaN  NaN  Group stage  Wed  Away      W  2.0  0.0   \n",
      "44  1997-10-22  NaN  NaN  Group stage  Wed  Home      W  5.0  1.0   \n",
      "45  1997-11-05  NaN  NaN  Group stage  Wed  Away      D  0.0  0.0   \n",
      "46  1997-11-27  NaN  NaN  Group stage  Thu  Away      L  0.0  2.0   \n",
      "\n",
      "         Opponent  Poss  Attendance Captain Formation            Referee  \\\n",
      "42   no Rosenborg   NaN         NaN     NaN       NaN   Gilles Veissière   \n",
      "43       pt Porto   NaN         NaN     NaN       NaN    Piero Ceccarini   \n",
      "44  gr Olympiacos   NaN         NaN     NaN       NaN  Pierluigi Collina   \n",
      "45  gr Olympiacos   NaN         NaN     NaN       NaN       Hellmut Krug   \n",
      "46   no Rosenborg   NaN         NaN     NaN       NaN        Paul Durkin   \n",
      "\n",
      "    Match Report Notes     Season  xG  xGA  \n",
      "42  Match Report   NaN  1997-1998 NaN  NaN  \n",
      "43  Match Report   NaN  1997-1998 NaN  NaN  \n",
      "44  Match Report   NaN  1997-1998 NaN  NaN  \n",
      "45  Match Report   NaN  1997-1998 NaN  NaN  \n",
      "46  Match Report   NaN  1997-1998 NaN  NaN  \n"
     ]
    }
   ],
   "source": [
    "realMadrid_df = realMadrid_df[realMadrid_df['Comp'].isna()]\n",
    "realMadrid_df = realMadrid_df.dropna(subset=['Result'])\n",
    "print(realMadrid_df.head())\n",
    "\n",
    "# Save the combined DataFrame to a CSV file\n",
    "realMadrid_df.to_csv('real_madrid_champions_league_1996_2024.csv', index=False)"
   ]
  }
 ],
 "metadata": {
  "kernelspec": {
   "display_name": "base",
   "language": "python",
   "name": "python3"
  },
  "language_info": {
   "codemirror_mode": {
    "name": "ipython",
    "version": 3
   },
   "file_extension": ".py",
   "mimetype": "text/x-python",
   "name": "python",
   "nbconvert_exporter": "python",
   "pygments_lexer": "ipython3",
   "version": "3.11.9"
  }
 },
 "nbformat": 4,
 "nbformat_minor": 2
}
